{
 "cells": [
  {
   "cell_type": "markdown",
   "metadata": {},
   "source": [
    "<font>\n",
    "<div dir=ltr align=center>\n",
    "<img src='Sharif_logo.png' width=250 height=250> <br>\n",
    "<font color=0F5298 size=7>\n",
    "Applied Data Science<br>\n",
    "<font color=2565AE size=5>\n",
    "Spring 2025<br>\n",
    "<font color=3C99D size=5>\n",
    "HW4 - Feature Engineering <br>\n",
    "<font color=696880 size=4>\n",
    "Ali Mohammadzade Shabestari - 401106482 - Computer Engineering\n",
    "\n"
   ]
  },
  {
   "cell_type": "markdown",
   "metadata": {},
   "source": [
    "# 1. Import Libraries"
   ]
  },
  {
   "cell_type": "code",
   "metadata": {
    "ExecuteTime": {
     "end_time": "2025-03-16T19:29:15.826016Z",
     "start_time": "2025-03-16T19:29:15.819324Z"
    }
   },
   "source": [
    "import pandas as pd\n",
    "import numpy as np\n",
    "from sklearn.feature_selection import SelectKBest, mutual_info_regression\n",
    "from sklearn.preprocessing import LabelEncoder\n",
    "from sklearn.decomposition import PCA\n",
    "from sklearn.preprocessing import StandardScaler"
   ],
   "outputs": [],
   "execution_count": 157
  },
  {
   "cell_type": "markdown",
   "metadata": {},
   "source": [
    "# 2. Load Datasets"
   ]
  },
  {
   "cell_type": "markdown",
   "metadata": {},
   "source": [
    "In the previous notebook, I cleaned Orders and Products datasets. I saved them in `Digikala Dataset` as `dff_orders.csv` and `dff_product.csv` folder and now I upload them to visualize data and work on their features."
   ]
  },
  {
   "cell_type": "code",
   "metadata": {
    "ExecuteTime": {
     "end_time": "2025-03-16T19:29:16.469904Z",
     "start_time": "2025-03-16T19:29:15.832033Z"
    }
   },
   "source": [
    "dff_orders = pd.read_csv('../Digikala Dataset/dff_orders.csv')\n",
    "dff_product = pd.read_csv('../Digikala Dataset/dff_product.csv')\n",
    "\n",
    "dff_orders['DateTime_CartFinalize'] = pd.to_datetime(dff_orders['DateTime_CartFinalize'])"
   ],
   "outputs": [],
   "execution_count": 158
  },
  {
   "cell_type": "markdown",
   "metadata": {},
   "source": [
    "# 3. Creating New Features"
   ]
  },
  {
   "cell_type": "markdown",
   "metadata": {},
   "source": [
    "First, let's inspect top of dataframe."
   ]
  },
  {
   "cell_type": "code",
   "metadata": {
    "ExecuteTime": {
     "end_time": "2025-03-16T19:29:16.495093Z",
     "start_time": "2025-03-16T19:29:16.488324Z"
    }
   },
   "source": [
    "dff_orders.head()"
   ],
   "outputs": [
    {
     "data": {
      "text/plain": [
       "   ID_Order  ID_Customer  ID_Item DateTime_CartFinalize  Amount_Gross_Order  \\\n",
       "0   2714054       469662    21386   2015-10-15 08:50:56            597982.0   \n",
       "1  11104039      3063877   248497   2018-02-11 00:29:26            980000.0   \n",
       "2   4228130      3184893    50144   2016-06-14 00:30:08            229358.0   \n",
       "3  22225624      6888562    70208   2018-09-03 14:37:19             16514.0   \n",
       "4   4068771      2533490    67627   2016-05-21 11:51:02            133028.0   \n",
       "\n",
       "            city  Quantity_item    province  year        date  \n",
       "0     Mahmudabad            1.0  Mazandaran  2015  2015-10-15  \n",
       "1  Khorramdarreh            1.0      Zanjan  2018  2018-02-11  \n",
       "2        Qarchak            1.0      Tehran  2016  2016-06-14  \n",
       "3            Qom            1.0         Qom  2018  2018-09-03  \n",
       "4         Tehran            1.0      Tehran  2016  2016-05-21  "
      ],
      "text/html": [
       "<div>\n",
       "<style scoped>\n",
       "    .dataframe tbody tr th:only-of-type {\n",
       "        vertical-align: middle;\n",
       "    }\n",
       "\n",
       "    .dataframe tbody tr th {\n",
       "        vertical-align: top;\n",
       "    }\n",
       "\n",
       "    .dataframe thead th {\n",
       "        text-align: right;\n",
       "    }\n",
       "</style>\n",
       "<table border=\"1\" class=\"dataframe\">\n",
       "  <thead>\n",
       "    <tr style=\"text-align: right;\">\n",
       "      <th></th>\n",
       "      <th>ID_Order</th>\n",
       "      <th>ID_Customer</th>\n",
       "      <th>ID_Item</th>\n",
       "      <th>DateTime_CartFinalize</th>\n",
       "      <th>Amount_Gross_Order</th>\n",
       "      <th>city</th>\n",
       "      <th>Quantity_item</th>\n",
       "      <th>province</th>\n",
       "      <th>year</th>\n",
       "      <th>date</th>\n",
       "    </tr>\n",
       "  </thead>\n",
       "  <tbody>\n",
       "    <tr>\n",
       "      <th>0</th>\n",
       "      <td>2714054</td>\n",
       "      <td>469662</td>\n",
       "      <td>21386</td>\n",
       "      <td>2015-10-15 08:50:56</td>\n",
       "      <td>597982.0</td>\n",
       "      <td>Mahmudabad</td>\n",
       "      <td>1.0</td>\n",
       "      <td>Mazandaran</td>\n",
       "      <td>2015</td>\n",
       "      <td>2015-10-15</td>\n",
       "    </tr>\n",
       "    <tr>\n",
       "      <th>1</th>\n",
       "      <td>11104039</td>\n",
       "      <td>3063877</td>\n",
       "      <td>248497</td>\n",
       "      <td>2018-02-11 00:29:26</td>\n",
       "      <td>980000.0</td>\n",
       "      <td>Khorramdarreh</td>\n",
       "      <td>1.0</td>\n",
       "      <td>Zanjan</td>\n",
       "      <td>2018</td>\n",
       "      <td>2018-02-11</td>\n",
       "    </tr>\n",
       "    <tr>\n",
       "      <th>2</th>\n",
       "      <td>4228130</td>\n",
       "      <td>3184893</td>\n",
       "      <td>50144</td>\n",
       "      <td>2016-06-14 00:30:08</td>\n",
       "      <td>229358.0</td>\n",
       "      <td>Qarchak</td>\n",
       "      <td>1.0</td>\n",
       "      <td>Tehran</td>\n",
       "      <td>2016</td>\n",
       "      <td>2016-06-14</td>\n",
       "    </tr>\n",
       "    <tr>\n",
       "      <th>3</th>\n",
       "      <td>22225624</td>\n",
       "      <td>6888562</td>\n",
       "      <td>70208</td>\n",
       "      <td>2018-09-03 14:37:19</td>\n",
       "      <td>16514.0</td>\n",
       "      <td>Qom</td>\n",
       "      <td>1.0</td>\n",
       "      <td>Qom</td>\n",
       "      <td>2018</td>\n",
       "      <td>2018-09-03</td>\n",
       "    </tr>\n",
       "    <tr>\n",
       "      <th>4</th>\n",
       "      <td>4068771</td>\n",
       "      <td>2533490</td>\n",
       "      <td>67627</td>\n",
       "      <td>2016-05-21 11:51:02</td>\n",
       "      <td>133028.0</td>\n",
       "      <td>Tehran</td>\n",
       "      <td>1.0</td>\n",
       "      <td>Tehran</td>\n",
       "      <td>2016</td>\n",
       "      <td>2016-05-21</td>\n",
       "    </tr>\n",
       "  </tbody>\n",
       "</table>\n",
       "</div>"
      ]
     },
     "execution_count": 159,
     "metadata": {},
     "output_type": "execute_result"
    }
   ],
   "execution_count": 159
  },
  {
   "cell_type": "markdown",
   "metadata": {},
   "source": [
    "## 3.1. Ratio"
   ]
  },
  {
   "cell_type": "markdown",
   "metadata": {},
   "source": [
    "To create a ratio feature, you can divide one numerical feature by another. For example, you can create a new feature that represents the price per item."
   ]
  },
  {
   "cell_type": "code",
   "metadata": {
    "ExecuteTime": {
     "end_time": "2025-03-16T19:29:16.513690Z",
     "start_time": "2025-03-16T19:29:16.505330Z"
    }
   },
   "source": [
    "# Create a new feature 'Price_per_Quantity' by dividing 'Amount_Gross_Order' by 'Quantity_item'\n",
    "dff_orders['Price_per_Quantity'] = dff_orders['Amount_Gross_Order'] / dff_orders['Quantity_item']\n",
    "\n",
    "# Display few rows with Quantity > 1 to verify the new feature\n",
    "dff_orders[dff_orders['Quantity_item'] > 1].head()"
   ],
   "outputs": [
    {
     "data": {
      "text/plain": [
       "    ID_Order  ID_Customer  ID_Item DateTime_CartFinalize  Amount_Gross_Order  \\\n",
       "16  23062506      7193109  1656648   2018-10-04 17:48:12            229000.0   \n",
       "18  23693949      3665022  1671745   2018-10-30 22:15:15             73211.0   \n",
       "20   6156363      3549803   193926   2017-01-24 03:05:35             41284.0   \n",
       "44  23634499      5196834  1157587   2018-10-28 16:07:17            142982.0   \n",
       "50   8186946      5356355   395337   2017-08-12 11:10:35           1950000.0   \n",
       "\n",
       "       city  Quantity_item province  year        date  Price_per_Quantity  \n",
       "16   Tehran            2.0   Tehran  2018  2018-10-04       114500.000000  \n",
       "18    Karaj            3.0   Alborz  2018  2018-10-30        24403.666667  \n",
       "20   Tehran            3.0   Tehran  2017  2017-01-24        13761.333333  \n",
       "44   Tehran            3.0   Tehran  2018  2018-10-28        47660.666667  \n",
       "50  Unknown            2.0      NaN  2017  2017-08-12       975000.000000  "
      ],
      "text/html": [
       "<div>\n",
       "<style scoped>\n",
       "    .dataframe tbody tr th:only-of-type {\n",
       "        vertical-align: middle;\n",
       "    }\n",
       "\n",
       "    .dataframe tbody tr th {\n",
       "        vertical-align: top;\n",
       "    }\n",
       "\n",
       "    .dataframe thead th {\n",
       "        text-align: right;\n",
       "    }\n",
       "</style>\n",
       "<table border=\"1\" class=\"dataframe\">\n",
       "  <thead>\n",
       "    <tr style=\"text-align: right;\">\n",
       "      <th></th>\n",
       "      <th>ID_Order</th>\n",
       "      <th>ID_Customer</th>\n",
       "      <th>ID_Item</th>\n",
       "      <th>DateTime_CartFinalize</th>\n",
       "      <th>Amount_Gross_Order</th>\n",
       "      <th>city</th>\n",
       "      <th>Quantity_item</th>\n",
       "      <th>province</th>\n",
       "      <th>year</th>\n",
       "      <th>date</th>\n",
       "      <th>Price_per_Quantity</th>\n",
       "    </tr>\n",
       "  </thead>\n",
       "  <tbody>\n",
       "    <tr>\n",
       "      <th>16</th>\n",
       "      <td>23062506</td>\n",
       "      <td>7193109</td>\n",
       "      <td>1656648</td>\n",
       "      <td>2018-10-04 17:48:12</td>\n",
       "      <td>229000.0</td>\n",
       "      <td>Tehran</td>\n",
       "      <td>2.0</td>\n",
       "      <td>Tehran</td>\n",
       "      <td>2018</td>\n",
       "      <td>2018-10-04</td>\n",
       "      <td>114500.000000</td>\n",
       "    </tr>\n",
       "    <tr>\n",
       "      <th>18</th>\n",
       "      <td>23693949</td>\n",
       "      <td>3665022</td>\n",
       "      <td>1671745</td>\n",
       "      <td>2018-10-30 22:15:15</td>\n",
       "      <td>73211.0</td>\n",
       "      <td>Karaj</td>\n",
       "      <td>3.0</td>\n",
       "      <td>Alborz</td>\n",
       "      <td>2018</td>\n",
       "      <td>2018-10-30</td>\n",
       "      <td>24403.666667</td>\n",
       "    </tr>\n",
       "    <tr>\n",
       "      <th>20</th>\n",
       "      <td>6156363</td>\n",
       "      <td>3549803</td>\n",
       "      <td>193926</td>\n",
       "      <td>2017-01-24 03:05:35</td>\n",
       "      <td>41284.0</td>\n",
       "      <td>Tehran</td>\n",
       "      <td>3.0</td>\n",
       "      <td>Tehran</td>\n",
       "      <td>2017</td>\n",
       "      <td>2017-01-24</td>\n",
       "      <td>13761.333333</td>\n",
       "    </tr>\n",
       "    <tr>\n",
       "      <th>44</th>\n",
       "      <td>23634499</td>\n",
       "      <td>5196834</td>\n",
       "      <td>1157587</td>\n",
       "      <td>2018-10-28 16:07:17</td>\n",
       "      <td>142982.0</td>\n",
       "      <td>Tehran</td>\n",
       "      <td>3.0</td>\n",
       "      <td>Tehran</td>\n",
       "      <td>2018</td>\n",
       "      <td>2018-10-28</td>\n",
       "      <td>47660.666667</td>\n",
       "    </tr>\n",
       "    <tr>\n",
       "      <th>50</th>\n",
       "      <td>8186946</td>\n",
       "      <td>5356355</td>\n",
       "      <td>395337</td>\n",
       "      <td>2017-08-12 11:10:35</td>\n",
       "      <td>1950000.0</td>\n",
       "      <td>Unknown</td>\n",
       "      <td>2.0</td>\n",
       "      <td>NaN</td>\n",
       "      <td>2017</td>\n",
       "      <td>2017-08-12</td>\n",
       "      <td>975000.000000</td>\n",
       "    </tr>\n",
       "  </tbody>\n",
       "</table>\n",
       "</div>"
      ]
     },
     "execution_count": 160,
     "metadata": {},
     "output_type": "execute_result"
    }
   ],
   "execution_count": 160
  },
  {
   "cell_type": "markdown",
   "metadata": {},
   "source": [
    "## 3.2. Binning"
   ]
  },
  {
   "cell_type": "markdown",
   "metadata": {},
   "source": [
    "Binning is a technique used to categorize continuous variables into discrete bins or intervals. This can be useful for simplifying the analysis and visualization of data.\n",
    "\n",
    " In the context of our dataset, we are binning the `total_price` into four equal-width bins. This means that the range of `total_price` values will be divided into four intervals, and each order will be assigned a label ('Low', 'Medium', 'High', 'Very High') based on which interval its `total_price` falls into. This can help us to easily identify and analyze orders based on their price categories."
   ]
  },
  {
   "cell_type": "code",
   "metadata": {
    "ExecuteTime": {
     "end_time": "2025-03-16T19:29:16.526289Z",
     "start_time": "2025-03-16T19:29:16.516539Z"
    }
   },
   "source": [
    "# Binning 'total_price' into 4 equal-width bins\n",
    "dff_orders['Price_Bin'] = pd.cut(dff_orders['Amount_Gross_Order'], bins=4, labels=['Low', 'Medium', 'High', 'Very High'])\n",
    "print(dff_orders['Price_Bin'].value_counts())"
   ],
   "outputs": [
    {
     "name": "stdout",
     "output_type": "stream",
     "text": [
      "Price_Bin\n",
      "Low          199999\n",
      "Very High         1\n",
      "Medium            0\n",
      "High              0\n",
      "Name: count, dtype: int64\n"
     ]
    }
   ],
   "execution_count": 161
  },
  {
   "cell_type": "markdown",
   "metadata": {},
   "source": [
    "Because of a high outlier, it's better to ignore them while binning."
   ]
  },
  {
   "cell_type": "code",
   "metadata": {
    "ExecuteTime": {
     "end_time": "2025-03-16T19:29:16.542853Z",
     "start_time": "2025-03-16T19:29:16.528393Z"
    }
   },
   "source": [
    "# Quantile-based binning of 'total_price' into 4 bins\n",
    "dff_orders['Price_Bin'] = pd.qcut(dff_orders['Amount_Gross_Order'], q=4, labels=['Low', 'Medium', 'High', 'Very High'])\n",
    "print(dff_orders['Price_Bin'].value_counts())"
   ],
   "outputs": [
    {
     "name": "stdout",
     "output_type": "stream",
     "text": [
      "Price_Bin\n",
      "Medium       50516\n",
      "Low          50000\n",
      "Very High    50000\n",
      "High         49484\n",
      "Name: count, dtype: int64\n"
     ]
    }
   ],
   "execution_count": 162
  },
  {
   "cell_type": "markdown",
   "metadata": {},
   "source": [
    "## 3. 3. Function of A Column"
   ]
  },
  {
   "cell_type": "markdown",
   "metadata": {},
   "source": [
    "A great example for function of a column is province mapping that has been done before.\n",
    "\n",
    "As another exmaple, you can apply logarithmic transformation on price."
   ]
  },
  {
   "cell_type": "code",
   "metadata": {
    "ExecuteTime": {
     "end_time": "2025-03-16T19:29:16.551068Z",
     "start_time": "2025-03-16T19:29:16.545137Z"
    }
   },
   "source": [
    "# Example 1: Log transformation of 'total_price' (Adding 1 to avoid log(0))\n",
    "dff_orders['Log_Total_Price'] = np.log(dff_orders['Amount_Gross_Order'] + 1)\n",
    "dff_orders.head(5)"
   ],
   "outputs": [
    {
     "data": {
      "text/plain": [
       "   ID_Order  ID_Customer  ID_Item DateTime_CartFinalize  Amount_Gross_Order  \\\n",
       "0   2714054       469662    21386   2015-10-15 08:50:56            597982.0   \n",
       "1  11104039      3063877   248497   2018-02-11 00:29:26            980000.0   \n",
       "2   4228130      3184893    50144   2016-06-14 00:30:08            229358.0   \n",
       "3  22225624      6888562    70208   2018-09-03 14:37:19             16514.0   \n",
       "4   4068771      2533490    67627   2016-05-21 11:51:02            133028.0   \n",
       "\n",
       "            city  Quantity_item    province  year        date  \\\n",
       "0     Mahmudabad            1.0  Mazandaran  2015  2015-10-15   \n",
       "1  Khorramdarreh            1.0      Zanjan  2018  2018-02-11   \n",
       "2        Qarchak            1.0      Tehran  2016  2016-06-14   \n",
       "3            Qom            1.0         Qom  2018  2018-09-03   \n",
       "4         Tehran            1.0      Tehran  2016  2016-05-21   \n",
       "\n",
       "   Price_per_Quantity Price_Bin  Log_Total_Price  \n",
       "0            597982.0      High        13.301318  \n",
       "1            980000.0      High        13.795309  \n",
       "2            229358.0    Medium        12.343044  \n",
       "3             16514.0       Low         9.712024  \n",
       "4            133028.0    Medium        11.798322  "
      ],
      "text/html": [
       "<div>\n",
       "<style scoped>\n",
       "    .dataframe tbody tr th:only-of-type {\n",
       "        vertical-align: middle;\n",
       "    }\n",
       "\n",
       "    .dataframe tbody tr th {\n",
       "        vertical-align: top;\n",
       "    }\n",
       "\n",
       "    .dataframe thead th {\n",
       "        text-align: right;\n",
       "    }\n",
       "</style>\n",
       "<table border=\"1\" class=\"dataframe\">\n",
       "  <thead>\n",
       "    <tr style=\"text-align: right;\">\n",
       "      <th></th>\n",
       "      <th>ID_Order</th>\n",
       "      <th>ID_Customer</th>\n",
       "      <th>ID_Item</th>\n",
       "      <th>DateTime_CartFinalize</th>\n",
       "      <th>Amount_Gross_Order</th>\n",
       "      <th>city</th>\n",
       "      <th>Quantity_item</th>\n",
       "      <th>province</th>\n",
       "      <th>year</th>\n",
       "      <th>date</th>\n",
       "      <th>Price_per_Quantity</th>\n",
       "      <th>Price_Bin</th>\n",
       "      <th>Log_Total_Price</th>\n",
       "    </tr>\n",
       "  </thead>\n",
       "  <tbody>\n",
       "    <tr>\n",
       "      <th>0</th>\n",
       "      <td>2714054</td>\n",
       "      <td>469662</td>\n",
       "      <td>21386</td>\n",
       "      <td>2015-10-15 08:50:56</td>\n",
       "      <td>597982.0</td>\n",
       "      <td>Mahmudabad</td>\n",
       "      <td>1.0</td>\n",
       "      <td>Mazandaran</td>\n",
       "      <td>2015</td>\n",
       "      <td>2015-10-15</td>\n",
       "      <td>597982.0</td>\n",
       "      <td>High</td>\n",
       "      <td>13.301318</td>\n",
       "    </tr>\n",
       "    <tr>\n",
       "      <th>1</th>\n",
       "      <td>11104039</td>\n",
       "      <td>3063877</td>\n",
       "      <td>248497</td>\n",
       "      <td>2018-02-11 00:29:26</td>\n",
       "      <td>980000.0</td>\n",
       "      <td>Khorramdarreh</td>\n",
       "      <td>1.0</td>\n",
       "      <td>Zanjan</td>\n",
       "      <td>2018</td>\n",
       "      <td>2018-02-11</td>\n",
       "      <td>980000.0</td>\n",
       "      <td>High</td>\n",
       "      <td>13.795309</td>\n",
       "    </tr>\n",
       "    <tr>\n",
       "      <th>2</th>\n",
       "      <td>4228130</td>\n",
       "      <td>3184893</td>\n",
       "      <td>50144</td>\n",
       "      <td>2016-06-14 00:30:08</td>\n",
       "      <td>229358.0</td>\n",
       "      <td>Qarchak</td>\n",
       "      <td>1.0</td>\n",
       "      <td>Tehran</td>\n",
       "      <td>2016</td>\n",
       "      <td>2016-06-14</td>\n",
       "      <td>229358.0</td>\n",
       "      <td>Medium</td>\n",
       "      <td>12.343044</td>\n",
       "    </tr>\n",
       "    <tr>\n",
       "      <th>3</th>\n",
       "      <td>22225624</td>\n",
       "      <td>6888562</td>\n",
       "      <td>70208</td>\n",
       "      <td>2018-09-03 14:37:19</td>\n",
       "      <td>16514.0</td>\n",
       "      <td>Qom</td>\n",
       "      <td>1.0</td>\n",
       "      <td>Qom</td>\n",
       "      <td>2018</td>\n",
       "      <td>2018-09-03</td>\n",
       "      <td>16514.0</td>\n",
       "      <td>Low</td>\n",
       "      <td>9.712024</td>\n",
       "    </tr>\n",
       "    <tr>\n",
       "      <th>4</th>\n",
       "      <td>4068771</td>\n",
       "      <td>2533490</td>\n",
       "      <td>67627</td>\n",
       "      <td>2016-05-21 11:51:02</td>\n",
       "      <td>133028.0</td>\n",
       "      <td>Tehran</td>\n",
       "      <td>1.0</td>\n",
       "      <td>Tehran</td>\n",
       "      <td>2016</td>\n",
       "      <td>2016-05-21</td>\n",
       "      <td>133028.0</td>\n",
       "      <td>Medium</td>\n",
       "      <td>11.798322</td>\n",
       "    </tr>\n",
       "  </tbody>\n",
       "</table>\n",
       "</div>"
      ]
     },
     "execution_count": 163,
     "metadata": {},
     "output_type": "execute_result"
    }
   ],
   "execution_count": 163
  },
  {
   "cell_type": "markdown",
   "metadata": {},
   "source": [
    "## 3. 4. Combining Columns"
   ]
  },
  {
   "cell_type": "markdown",
   "metadata": {},
   "source": [
    "In this dataset, a few meaningful features can be created by combining features. "
   ]
  },
  {
   "cell_type": "code",
   "metadata": {
    "ExecuteTime": {
     "end_time": "2025-03-16T19:29:16.587621Z",
     "start_time": "2025-03-16T19:29:16.554960Z"
    }
   },
   "source": [
    "dff_orders[\"Region_ID\"] = dff_orders[\"city\"] + \"_\" + dff_orders[\"province\"]\n",
    "dff_orders.head()"
   ],
   "outputs": [
    {
     "data": {
      "text/plain": [
       "   ID_Order  ID_Customer  ID_Item DateTime_CartFinalize  Amount_Gross_Order  \\\n",
       "0   2714054       469662    21386   2015-10-15 08:50:56            597982.0   \n",
       "1  11104039      3063877   248497   2018-02-11 00:29:26            980000.0   \n",
       "2   4228130      3184893    50144   2016-06-14 00:30:08            229358.0   \n",
       "3  22225624      6888562    70208   2018-09-03 14:37:19             16514.0   \n",
       "4   4068771      2533490    67627   2016-05-21 11:51:02            133028.0   \n",
       "\n",
       "            city  Quantity_item    province  year        date  \\\n",
       "0     Mahmudabad            1.0  Mazandaran  2015  2015-10-15   \n",
       "1  Khorramdarreh            1.0      Zanjan  2018  2018-02-11   \n",
       "2        Qarchak            1.0      Tehran  2016  2016-06-14   \n",
       "3            Qom            1.0         Qom  2018  2018-09-03   \n",
       "4         Tehran            1.0      Tehran  2016  2016-05-21   \n",
       "\n",
       "   Price_per_Quantity Price_Bin  Log_Total_Price              Region_ID  \n",
       "0            597982.0      High        13.301318  Mahmudabad_Mazandaran  \n",
       "1            980000.0      High        13.795309   Khorramdarreh_Zanjan  \n",
       "2            229358.0    Medium        12.343044         Qarchak_Tehran  \n",
       "3             16514.0       Low         9.712024                Qom_Qom  \n",
       "4            133028.0    Medium        11.798322          Tehran_Tehran  "
      ],
      "text/html": [
       "<div>\n",
       "<style scoped>\n",
       "    .dataframe tbody tr th:only-of-type {\n",
       "        vertical-align: middle;\n",
       "    }\n",
       "\n",
       "    .dataframe tbody tr th {\n",
       "        vertical-align: top;\n",
       "    }\n",
       "\n",
       "    .dataframe thead th {\n",
       "        text-align: right;\n",
       "    }\n",
       "</style>\n",
       "<table border=\"1\" class=\"dataframe\">\n",
       "  <thead>\n",
       "    <tr style=\"text-align: right;\">\n",
       "      <th></th>\n",
       "      <th>ID_Order</th>\n",
       "      <th>ID_Customer</th>\n",
       "      <th>ID_Item</th>\n",
       "      <th>DateTime_CartFinalize</th>\n",
       "      <th>Amount_Gross_Order</th>\n",
       "      <th>city</th>\n",
       "      <th>Quantity_item</th>\n",
       "      <th>province</th>\n",
       "      <th>year</th>\n",
       "      <th>date</th>\n",
       "      <th>Price_per_Quantity</th>\n",
       "      <th>Price_Bin</th>\n",
       "      <th>Log_Total_Price</th>\n",
       "      <th>Region_ID</th>\n",
       "    </tr>\n",
       "  </thead>\n",
       "  <tbody>\n",
       "    <tr>\n",
       "      <th>0</th>\n",
       "      <td>2714054</td>\n",
       "      <td>469662</td>\n",
       "      <td>21386</td>\n",
       "      <td>2015-10-15 08:50:56</td>\n",
       "      <td>597982.0</td>\n",
       "      <td>Mahmudabad</td>\n",
       "      <td>1.0</td>\n",
       "      <td>Mazandaran</td>\n",
       "      <td>2015</td>\n",
       "      <td>2015-10-15</td>\n",
       "      <td>597982.0</td>\n",
       "      <td>High</td>\n",
       "      <td>13.301318</td>\n",
       "      <td>Mahmudabad_Mazandaran</td>\n",
       "    </tr>\n",
       "    <tr>\n",
       "      <th>1</th>\n",
       "      <td>11104039</td>\n",
       "      <td>3063877</td>\n",
       "      <td>248497</td>\n",
       "      <td>2018-02-11 00:29:26</td>\n",
       "      <td>980000.0</td>\n",
       "      <td>Khorramdarreh</td>\n",
       "      <td>1.0</td>\n",
       "      <td>Zanjan</td>\n",
       "      <td>2018</td>\n",
       "      <td>2018-02-11</td>\n",
       "      <td>980000.0</td>\n",
       "      <td>High</td>\n",
       "      <td>13.795309</td>\n",
       "      <td>Khorramdarreh_Zanjan</td>\n",
       "    </tr>\n",
       "    <tr>\n",
       "      <th>2</th>\n",
       "      <td>4228130</td>\n",
       "      <td>3184893</td>\n",
       "      <td>50144</td>\n",
       "      <td>2016-06-14 00:30:08</td>\n",
       "      <td>229358.0</td>\n",
       "      <td>Qarchak</td>\n",
       "      <td>1.0</td>\n",
       "      <td>Tehran</td>\n",
       "      <td>2016</td>\n",
       "      <td>2016-06-14</td>\n",
       "      <td>229358.0</td>\n",
       "      <td>Medium</td>\n",
       "      <td>12.343044</td>\n",
       "      <td>Qarchak_Tehran</td>\n",
       "    </tr>\n",
       "    <tr>\n",
       "      <th>3</th>\n",
       "      <td>22225624</td>\n",
       "      <td>6888562</td>\n",
       "      <td>70208</td>\n",
       "      <td>2018-09-03 14:37:19</td>\n",
       "      <td>16514.0</td>\n",
       "      <td>Qom</td>\n",
       "      <td>1.0</td>\n",
       "      <td>Qom</td>\n",
       "      <td>2018</td>\n",
       "      <td>2018-09-03</td>\n",
       "      <td>16514.0</td>\n",
       "      <td>Low</td>\n",
       "      <td>9.712024</td>\n",
       "      <td>Qom_Qom</td>\n",
       "    </tr>\n",
       "    <tr>\n",
       "      <th>4</th>\n",
       "      <td>4068771</td>\n",
       "      <td>2533490</td>\n",
       "      <td>67627</td>\n",
       "      <td>2016-05-21 11:51:02</td>\n",
       "      <td>133028.0</td>\n",
       "      <td>Tehran</td>\n",
       "      <td>1.0</td>\n",
       "      <td>Tehran</td>\n",
       "      <td>2016</td>\n",
       "      <td>2016-05-21</td>\n",
       "      <td>133028.0</td>\n",
       "      <td>Medium</td>\n",
       "      <td>11.798322</td>\n",
       "      <td>Tehran_Tehran</td>\n",
       "    </tr>\n",
       "  </tbody>\n",
       "</table>\n",
       "</div>"
      ]
     },
     "execution_count": 164,
     "metadata": {},
     "output_type": "execute_result"
    }
   ],
   "execution_count": 164
  },
  {
   "cell_type": "markdown",
   "metadata": {},
   "source": [
    "## 3. 5. Date/Time"
   ]
  },
  {
   "cell_type": "markdown",
   "metadata": {},
   "source": [
    "There are many options for date/time extraction including: hour, day, month and ... . But I guess weekday and is_weekend are more useful."
   ]
  },
  {
   "cell_type": "code",
   "metadata": {
    "ExecuteTime": {
     "end_time": "2025-03-16T19:29:16.605644Z",
     "start_time": "2025-03-16T19:29:16.590458Z"
    }
   },
   "source": [
    "dff_orders[\"Weekday\"] = dff_orders[\"DateTime_CartFinalize\"].dt.dayofweek  # 0=Monday, 6=Sunday\n",
    "dff_orders[\"Is_Weekend\"] = dff_orders[\"Weekday\"].isin([5, 6]).astype(int)  # Binary weekend flag\n",
    "dff_orders.head()"
   ],
   "outputs": [
    {
     "data": {
      "text/plain": [
       "   ID_Order  ID_Customer  ID_Item DateTime_CartFinalize  Amount_Gross_Order  \\\n",
       "0   2714054       469662    21386   2015-10-15 08:50:56            597982.0   \n",
       "1  11104039      3063877   248497   2018-02-11 00:29:26            980000.0   \n",
       "2   4228130      3184893    50144   2016-06-14 00:30:08            229358.0   \n",
       "3  22225624      6888562    70208   2018-09-03 14:37:19             16514.0   \n",
       "4   4068771      2533490    67627   2016-05-21 11:51:02            133028.0   \n",
       "\n",
       "            city  Quantity_item    province  year        date  \\\n",
       "0     Mahmudabad            1.0  Mazandaran  2015  2015-10-15   \n",
       "1  Khorramdarreh            1.0      Zanjan  2018  2018-02-11   \n",
       "2        Qarchak            1.0      Tehran  2016  2016-06-14   \n",
       "3            Qom            1.0         Qom  2018  2018-09-03   \n",
       "4         Tehran            1.0      Tehran  2016  2016-05-21   \n",
       "\n",
       "   Price_per_Quantity Price_Bin  Log_Total_Price              Region_ID  \\\n",
       "0            597982.0      High        13.301318  Mahmudabad_Mazandaran   \n",
       "1            980000.0      High        13.795309   Khorramdarreh_Zanjan   \n",
       "2            229358.0    Medium        12.343044         Qarchak_Tehran   \n",
       "3             16514.0       Low         9.712024                Qom_Qom   \n",
       "4            133028.0    Medium        11.798322          Tehran_Tehran   \n",
       "\n",
       "   Weekday  Is_Weekend  \n",
       "0        3           0  \n",
       "1        6           1  \n",
       "2        1           0  \n",
       "3        0           0  \n",
       "4        5           1  "
      ],
      "text/html": [
       "<div>\n",
       "<style scoped>\n",
       "    .dataframe tbody tr th:only-of-type {\n",
       "        vertical-align: middle;\n",
       "    }\n",
       "\n",
       "    .dataframe tbody tr th {\n",
       "        vertical-align: top;\n",
       "    }\n",
       "\n",
       "    .dataframe thead th {\n",
       "        text-align: right;\n",
       "    }\n",
       "</style>\n",
       "<table border=\"1\" class=\"dataframe\">\n",
       "  <thead>\n",
       "    <tr style=\"text-align: right;\">\n",
       "      <th></th>\n",
       "      <th>ID_Order</th>\n",
       "      <th>ID_Customer</th>\n",
       "      <th>ID_Item</th>\n",
       "      <th>DateTime_CartFinalize</th>\n",
       "      <th>Amount_Gross_Order</th>\n",
       "      <th>city</th>\n",
       "      <th>Quantity_item</th>\n",
       "      <th>province</th>\n",
       "      <th>year</th>\n",
       "      <th>date</th>\n",
       "      <th>Price_per_Quantity</th>\n",
       "      <th>Price_Bin</th>\n",
       "      <th>Log_Total_Price</th>\n",
       "      <th>Region_ID</th>\n",
       "      <th>Weekday</th>\n",
       "      <th>Is_Weekend</th>\n",
       "    </tr>\n",
       "  </thead>\n",
       "  <tbody>\n",
       "    <tr>\n",
       "      <th>0</th>\n",
       "      <td>2714054</td>\n",
       "      <td>469662</td>\n",
       "      <td>21386</td>\n",
       "      <td>2015-10-15 08:50:56</td>\n",
       "      <td>597982.0</td>\n",
       "      <td>Mahmudabad</td>\n",
       "      <td>1.0</td>\n",
       "      <td>Mazandaran</td>\n",
       "      <td>2015</td>\n",
       "      <td>2015-10-15</td>\n",
       "      <td>597982.0</td>\n",
       "      <td>High</td>\n",
       "      <td>13.301318</td>\n",
       "      <td>Mahmudabad_Mazandaran</td>\n",
       "      <td>3</td>\n",
       "      <td>0</td>\n",
       "    </tr>\n",
       "    <tr>\n",
       "      <th>1</th>\n",
       "      <td>11104039</td>\n",
       "      <td>3063877</td>\n",
       "      <td>248497</td>\n",
       "      <td>2018-02-11 00:29:26</td>\n",
       "      <td>980000.0</td>\n",
       "      <td>Khorramdarreh</td>\n",
       "      <td>1.0</td>\n",
       "      <td>Zanjan</td>\n",
       "      <td>2018</td>\n",
       "      <td>2018-02-11</td>\n",
       "      <td>980000.0</td>\n",
       "      <td>High</td>\n",
       "      <td>13.795309</td>\n",
       "      <td>Khorramdarreh_Zanjan</td>\n",
       "      <td>6</td>\n",
       "      <td>1</td>\n",
       "    </tr>\n",
       "    <tr>\n",
       "      <th>2</th>\n",
       "      <td>4228130</td>\n",
       "      <td>3184893</td>\n",
       "      <td>50144</td>\n",
       "      <td>2016-06-14 00:30:08</td>\n",
       "      <td>229358.0</td>\n",
       "      <td>Qarchak</td>\n",
       "      <td>1.0</td>\n",
       "      <td>Tehran</td>\n",
       "      <td>2016</td>\n",
       "      <td>2016-06-14</td>\n",
       "      <td>229358.0</td>\n",
       "      <td>Medium</td>\n",
       "      <td>12.343044</td>\n",
       "      <td>Qarchak_Tehran</td>\n",
       "      <td>1</td>\n",
       "      <td>0</td>\n",
       "    </tr>\n",
       "    <tr>\n",
       "      <th>3</th>\n",
       "      <td>22225624</td>\n",
       "      <td>6888562</td>\n",
       "      <td>70208</td>\n",
       "      <td>2018-09-03 14:37:19</td>\n",
       "      <td>16514.0</td>\n",
       "      <td>Qom</td>\n",
       "      <td>1.0</td>\n",
       "      <td>Qom</td>\n",
       "      <td>2018</td>\n",
       "      <td>2018-09-03</td>\n",
       "      <td>16514.0</td>\n",
       "      <td>Low</td>\n",
       "      <td>9.712024</td>\n",
       "      <td>Qom_Qom</td>\n",
       "      <td>0</td>\n",
       "      <td>0</td>\n",
       "    </tr>\n",
       "    <tr>\n",
       "      <th>4</th>\n",
       "      <td>4068771</td>\n",
       "      <td>2533490</td>\n",
       "      <td>67627</td>\n",
       "      <td>2016-05-21 11:51:02</td>\n",
       "      <td>133028.0</td>\n",
       "      <td>Tehran</td>\n",
       "      <td>1.0</td>\n",
       "      <td>Tehran</td>\n",
       "      <td>2016</td>\n",
       "      <td>2016-05-21</td>\n",
       "      <td>133028.0</td>\n",
       "      <td>Medium</td>\n",
       "      <td>11.798322</td>\n",
       "      <td>Tehran_Tehran</td>\n",
       "      <td>5</td>\n",
       "      <td>1</td>\n",
       "    </tr>\n",
       "  </tbody>\n",
       "</table>\n",
       "</div>"
      ]
     },
     "execution_count": 165,
     "metadata": {},
     "output_type": "execute_result"
    }
   ],
   "execution_count": 165
  },
  {
   "cell_type": "markdown",
   "metadata": {},
   "source": [
    "## 3. 6. Count & Aggregation"
   ]
  },
  {
   "cell_type": "markdown",
   "metadata": {},
   "source": [
    "Aggregating data helps uncover trends and behaviors at different levels, such as customer behavior, order frequency, and regional sales trends."
   ]
  },
  {
   "cell_type": "code",
   "metadata": {
    "ExecuteTime": {
     "end_time": "2025-03-16T19:29:16.644644Z",
     "start_time": "2025-03-16T19:29:16.608232Z"
    }
   },
   "source": [
    "# Create a new feature 'Customer_Total_Orders' which counts the total number of orders for each customer\n",
    "dff_orders[\"Customer_Total_Orders\"] = dff_orders.groupby(\"ID_Customer\")[\"ID_Order\"].transform(\"count\")\n",
    "\n",
    "# Create a new feature 'City_Avg_Order_Value' which calculates the average order value for each city\n",
    "dff_orders[\"City_Avg_Order_Value\"] = dff_orders.groupby(\"city\")[\"Amount_Gross_Order\"].transform(\"mean\")\n",
    "\n",
    "dff_orders.head()"
   ],
   "outputs": [
    {
     "data": {
      "text/plain": [
       "   ID_Order  ID_Customer  ID_Item DateTime_CartFinalize  Amount_Gross_Order  \\\n",
       "0   2714054       469662    21386   2015-10-15 08:50:56            597982.0   \n",
       "1  11104039      3063877   248497   2018-02-11 00:29:26            980000.0   \n",
       "2   4228130      3184893    50144   2016-06-14 00:30:08            229358.0   \n",
       "3  22225624      6888562    70208   2018-09-03 14:37:19             16514.0   \n",
       "4   4068771      2533490    67627   2016-05-21 11:51:02            133028.0   \n",
       "\n",
       "            city  Quantity_item    province  year        date  \\\n",
       "0     Mahmudabad            1.0  Mazandaran  2015  2015-10-15   \n",
       "1  Khorramdarreh            1.0      Zanjan  2018  2018-02-11   \n",
       "2        Qarchak            1.0      Tehran  2016  2016-06-14   \n",
       "3            Qom            1.0         Qom  2018  2018-09-03   \n",
       "4         Tehran            1.0      Tehran  2016  2016-05-21   \n",
       "\n",
       "   Price_per_Quantity Price_Bin  Log_Total_Price              Region_ID  \\\n",
       "0            597982.0      High        13.301318  Mahmudabad_Mazandaran   \n",
       "1            980000.0      High        13.795309   Khorramdarreh_Zanjan   \n",
       "2            229358.0    Medium        12.343044         Qarchak_Tehran   \n",
       "3             16514.0       Low         9.712024                Qom_Qom   \n",
       "4            133028.0    Medium        11.798322          Tehran_Tehran   \n",
       "\n",
       "   Weekday  Is_Weekend  Customer_Total_Orders  City_Avg_Order_Value  \n",
       "0        3           0                      6          1.664577e+06  \n",
       "1        6           1                      1          7.466292e+05  \n",
       "2        1           0                      3          1.049428e+06  \n",
       "3        0           0                      1          1.448778e+06  \n",
       "4        5           1                      1          1.410293e+06  "
      ],
      "text/html": [
       "<div>\n",
       "<style scoped>\n",
       "    .dataframe tbody tr th:only-of-type {\n",
       "        vertical-align: middle;\n",
       "    }\n",
       "\n",
       "    .dataframe tbody tr th {\n",
       "        vertical-align: top;\n",
       "    }\n",
       "\n",
       "    .dataframe thead th {\n",
       "        text-align: right;\n",
       "    }\n",
       "</style>\n",
       "<table border=\"1\" class=\"dataframe\">\n",
       "  <thead>\n",
       "    <tr style=\"text-align: right;\">\n",
       "      <th></th>\n",
       "      <th>ID_Order</th>\n",
       "      <th>ID_Customer</th>\n",
       "      <th>ID_Item</th>\n",
       "      <th>DateTime_CartFinalize</th>\n",
       "      <th>Amount_Gross_Order</th>\n",
       "      <th>city</th>\n",
       "      <th>Quantity_item</th>\n",
       "      <th>province</th>\n",
       "      <th>year</th>\n",
       "      <th>date</th>\n",
       "      <th>Price_per_Quantity</th>\n",
       "      <th>Price_Bin</th>\n",
       "      <th>Log_Total_Price</th>\n",
       "      <th>Region_ID</th>\n",
       "      <th>Weekday</th>\n",
       "      <th>Is_Weekend</th>\n",
       "      <th>Customer_Total_Orders</th>\n",
       "      <th>City_Avg_Order_Value</th>\n",
       "    </tr>\n",
       "  </thead>\n",
       "  <tbody>\n",
       "    <tr>\n",
       "      <th>0</th>\n",
       "      <td>2714054</td>\n",
       "      <td>469662</td>\n",
       "      <td>21386</td>\n",
       "      <td>2015-10-15 08:50:56</td>\n",
       "      <td>597982.0</td>\n",
       "      <td>Mahmudabad</td>\n",
       "      <td>1.0</td>\n",
       "      <td>Mazandaran</td>\n",
       "      <td>2015</td>\n",
       "      <td>2015-10-15</td>\n",
       "      <td>597982.0</td>\n",
       "      <td>High</td>\n",
       "      <td>13.301318</td>\n",
       "      <td>Mahmudabad_Mazandaran</td>\n",
       "      <td>3</td>\n",
       "      <td>0</td>\n",
       "      <td>6</td>\n",
       "      <td>1.664577e+06</td>\n",
       "    </tr>\n",
       "    <tr>\n",
       "      <th>1</th>\n",
       "      <td>11104039</td>\n",
       "      <td>3063877</td>\n",
       "      <td>248497</td>\n",
       "      <td>2018-02-11 00:29:26</td>\n",
       "      <td>980000.0</td>\n",
       "      <td>Khorramdarreh</td>\n",
       "      <td>1.0</td>\n",
       "      <td>Zanjan</td>\n",
       "      <td>2018</td>\n",
       "      <td>2018-02-11</td>\n",
       "      <td>980000.0</td>\n",
       "      <td>High</td>\n",
       "      <td>13.795309</td>\n",
       "      <td>Khorramdarreh_Zanjan</td>\n",
       "      <td>6</td>\n",
       "      <td>1</td>\n",
       "      <td>1</td>\n",
       "      <td>7.466292e+05</td>\n",
       "    </tr>\n",
       "    <tr>\n",
       "      <th>2</th>\n",
       "      <td>4228130</td>\n",
       "      <td>3184893</td>\n",
       "      <td>50144</td>\n",
       "      <td>2016-06-14 00:30:08</td>\n",
       "      <td>229358.0</td>\n",
       "      <td>Qarchak</td>\n",
       "      <td>1.0</td>\n",
       "      <td>Tehran</td>\n",
       "      <td>2016</td>\n",
       "      <td>2016-06-14</td>\n",
       "      <td>229358.0</td>\n",
       "      <td>Medium</td>\n",
       "      <td>12.343044</td>\n",
       "      <td>Qarchak_Tehran</td>\n",
       "      <td>1</td>\n",
       "      <td>0</td>\n",
       "      <td>3</td>\n",
       "      <td>1.049428e+06</td>\n",
       "    </tr>\n",
       "    <tr>\n",
       "      <th>3</th>\n",
       "      <td>22225624</td>\n",
       "      <td>6888562</td>\n",
       "      <td>70208</td>\n",
       "      <td>2018-09-03 14:37:19</td>\n",
       "      <td>16514.0</td>\n",
       "      <td>Qom</td>\n",
       "      <td>1.0</td>\n",
       "      <td>Qom</td>\n",
       "      <td>2018</td>\n",
       "      <td>2018-09-03</td>\n",
       "      <td>16514.0</td>\n",
       "      <td>Low</td>\n",
       "      <td>9.712024</td>\n",
       "      <td>Qom_Qom</td>\n",
       "      <td>0</td>\n",
       "      <td>0</td>\n",
       "      <td>1</td>\n",
       "      <td>1.448778e+06</td>\n",
       "    </tr>\n",
       "    <tr>\n",
       "      <th>4</th>\n",
       "      <td>4068771</td>\n",
       "      <td>2533490</td>\n",
       "      <td>67627</td>\n",
       "      <td>2016-05-21 11:51:02</td>\n",
       "      <td>133028.0</td>\n",
       "      <td>Tehran</td>\n",
       "      <td>1.0</td>\n",
       "      <td>Tehran</td>\n",
       "      <td>2016</td>\n",
       "      <td>2016-05-21</td>\n",
       "      <td>133028.0</td>\n",
       "      <td>Medium</td>\n",
       "      <td>11.798322</td>\n",
       "      <td>Tehran_Tehran</td>\n",
       "      <td>5</td>\n",
       "      <td>1</td>\n",
       "      <td>1</td>\n",
       "      <td>1.410293e+06</td>\n",
       "    </tr>\n",
       "  </tbody>\n",
       "</table>\n",
       "</div>"
      ]
     },
     "execution_count": 166,
     "metadata": {},
     "output_type": "execute_result"
    }
   ],
   "execution_count": 166
  },
  {
   "cell_type": "markdown",
   "metadata": {},
   "source": [
    "# 4. Feature Selection Based on Mutual Information"
   ]
  },
  {
   "metadata": {},
   "cell_type": "markdown",
   "source": [
    "Mutual information is a measure of the dependency between variables. It quantifies the amount of information obtained about one variable through the other variable. In the context of feature selection, mutual information helps identify the features that have the highest dependency with the target variable, thus indicating their importance.\n",
    "\n",
    "For mutual information to be calculated, the features need to be numeric. This is because mutual information algorithms typically require numerical input to compute the dependency measures. Therefore, categorical features, such as province, need to be encoded into numeric values. This can be achieved using techniques like label encoding, which assigns a unique integer to each category. This transformation allows the mutual information calculation to proceed correctly. We also need to drop columns that are most likely not useful for our model."
   ]
  },
  {
   "metadata": {
    "ExecuteTime": {
     "end_time": "2025-03-16T19:29:16.667597Z",
     "start_time": "2025-03-16T19:29:16.647259Z"
    }
   },
   "cell_type": "code",
   "source": [
    "# Transform 'Price_Bin' into numeric values\n",
    "def convert_price_bin_to_numeric(df, column_name='Price_Bin'):\n",
    "    bin_mapping = {'Low': 1, 'Medium': 2, 'High': 3, 'Very High': 4}\n",
    "    df[column_name + '_Numeric'] = df[column_name].map(bin_mapping)\n",
    "    return df\n",
    "\n",
    "dff_orders = convert_price_bin_to_numeric(dff_orders)\n",
    "\n",
    "# Encode the 'province' column\n",
    "le = LabelEncoder()\n",
    "dff_orders['province_encoded'] = le.fit_transform(dff_orders['province'])"
   ],
   "outputs": [],
   "execution_count": 167
  },
  {
   "cell_type": "code",
   "metadata": {
    "ExecuteTime": {
     "end_time": "2025-03-16T19:29:22.315828Z",
     "start_time": "2025-03-16T19:29:16.669719Z"
    }
   },
   "source": [
    "# Select the features and target variable\n",
    "X = dff_orders.drop(columns=['ID_Order', 'ID_Customer', 'ID_Item', 'DateTime_CartFinalize', 'city', 'date', 'Region_ID', 'Price_Bin', 'province', 'Log_Total_Price', 'Amount_Gross_Order', 'Price_per_Quantity'])\n",
    "\n",
    "y = dff_orders['Price_Bin_Numeric']\n",
    "\n",
    "# Apply SelectKBest with mutual_info_regression\n",
    "selector = SelectKBest(score_func=mutual_info_regression, k='all')\n",
    "selector.fit(X, y)\n",
    "\n",
    "# Get the scores\n",
    "scores = selector.scores_\n",
    "\n",
    "# Create a DataFrame to display the mutual information scores\n",
    "mi_df = pd.DataFrame({'Feature': X.columns, 'Mutual Information': scores})\n",
    "mi_df = mi_df.sort_values(by='Mutual Information', ascending=False)\n",
    "\n",
    "print(mi_df)"
   ],
   "outputs": [
    {
     "name": "stdout",
     "output_type": "stream",
     "text": [
      "                 Feature  Mutual Information\n",
      "6      Price_Bin_Numeric            1.386522\n",
      "0          Quantity_item            0.016793\n",
      "4  Customer_Total_Orders            0.013572\n",
      "1                   year            0.006540\n",
      "5   City_Avg_Order_Value            0.003032\n",
      "2                Weekday            0.000000\n",
      "3             Is_Weekend            0.000000\n",
      "7       province_encoded            0.000000\n"
     ]
    }
   ],
   "execution_count": 168
  },
  {
   "metadata": {},
   "cell_type": "markdown",
   "source": "Features with higher mutual information scores are more relevant for predicting the target variable. These features should be prioritized in the modeling process, as they provide more information about the target variable.\n"
  },
  {
   "metadata": {},
   "cell_type": "markdown",
   "source": "# 5. Dimensionality Reduction Using PCA"
  },
  {
   "metadata": {},
   "cell_type": "markdown",
   "source": [
    "I asked ChatGPT about what columns are important for PCA and it said:\n",
    "\n",
    "PCA only works on numerical columns, so:\n",
    "\n",
    "✅ Include:\n",
    "\n",
    "- Continuous numerical features (e.g., price, age, weight).\n",
    "- Features that are on a comparable scale (or will be standardized).\n",
    "\n",
    "❌ Exclude or Preprocess:\n",
    "\n",
    "- Categorical features (convert them first using One-Hot Encoding or Label Encoding).\n",
    "- ID columns (e.g., Customer ID, Order ID – they don’t hold meaningful variance).\n",
    "- Date/Time columns (unless converted into numerical values like hours, weekdays, etc.).\n",
    "\n",
    "Therefore, we use X as the same as before and apply PCA on it."
   ]
  },
  {
   "metadata": {
    "ExecuteTime": {
     "end_time": "2025-03-16T19:29:22.357720Z",
     "start_time": "2025-03-16T19:29:22.321955Z"
    }
   },
   "cell_type": "code",
   "source": [
    "# Standardize the features\n",
    "scaler = StandardScaler()\n",
    "X_scaled = scaler.fit_transform(X)\n",
    "\n",
    "# Apply PCA\n",
    "pca = PCA(n_components=2)  # Adjust the number of components as needed\n",
    "X_pca = pca.fit_transform(X_scaled)\n",
    "\n",
    "# Create a DataFrame to display the PCA results\n",
    "pca_df = pd.DataFrame(data=X_pca, columns=['Principal Component 1', 'Principal Component 2'])\n",
    "pca_df['Price_Bin_Numeric'] = y.values\n",
    "\n",
    "print(pca_df.head())"
   ],
   "outputs": [
    {
     "name": "stdout",
     "output_type": "stream",
     "text": [
      "   Principal Component 1  Principal Component 2 Price_Bin_Numeric\n",
      "0              -0.452267               0.463341                 3\n",
      "1               2.151072              -1.793826                 3\n",
      "2              -1.130402              -1.552247                 2\n",
      "3              -1.476265              -0.428096                 1\n",
      "4               1.793088              -0.713397                 2\n"
     ]
    }
   ],
   "execution_count": 169
  },
  {
   "metadata": {},
   "cell_type": "markdown",
   "source": "# 6. Answer A Question!"
  },
  {
   "metadata": {},
   "cell_type": "markdown",
   "source": [
    "**Question:**\n",
    "\n",
    "When is feature engineering a “nice to have option” and in what situations it is a “must to have”?\n",
    "\n",
    "\n",
    "\n",
    "**Answer:**\n",
    "\n",
    "Feature engineering can be a \"nice to have option\" when the dataset is already well-structured, contains relevant features, and the machine learning model can achieve good performance with minimal feature engineering. It is useful for quickly prototyping and testing models. However, feature engineering becomes a \"must to have\" when the dataset contains raw or unstructured data that needs transformation into meaningful features, the existing features are insufficient to capture underlying patterns, or the problem is complex and requires additional features to improve model performance. It is essential when the model's performance is unsatisfactory, and feature engineering can help extract more relevant information from the data.\n",
    "\n",
    "✅ In this project, we performed various feature engineering techniques, but imo it is a 'Must To Have' option since we obtained important features like Province, Price_Bin, Log_Total_Price, Region_ID, Weekday, Is_Weekend, and ... . These features can help a Machine Learning model to predict the price category of an order more accurately.\n",
    "\n",
    "\n"
   ]
  }
 ],
 "metadata": {
  "kernelspec": {
   "display_name": "Python 3",
   "language": "python",
   "name": "python3"
  },
  "language_info": {
   "codemirror_mode": {
    "name": "ipython",
    "version": 3
   },
   "file_extension": ".py",
   "mimetype": "text/x-python",
   "name": "python",
   "nbconvert_exporter": "python",
   "pygments_lexer": "ipython3",
   "version": "3.11.4"
  }
 },
 "nbformat": 4,
 "nbformat_minor": 2
}
