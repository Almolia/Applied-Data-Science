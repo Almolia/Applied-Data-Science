{
 "cells": [
  {
   "cell_type": "markdown",
   "metadata": {},
   "source": [
    "<font>\n",
    "<div dir=ltr align=center>\n",
    "<img src='Sharif_logo.png' width=250 height=250> <br>\n",
    "<font color=0F5298 size=7>\n",
    "Applied Data Science<br>\n",
    "<font color=2565AE size=5>\n",
    "Spring 2025<br>\n",
    "<font color=3C99D size=5>\n",
    "HW9 - Neural Networks <br>\n",
    "<font color=696880 size=4>\n",
    "Ali Mohammadzade Shabestari - 401106482 - Computer Engineering\n",
    "\n"
   ]
  },
  {
   "cell_type": "markdown",
   "metadata": {},
   "source": [
    "# 1. Import Libraries"
   ]
  },
  {
   "cell_type": "code",
   "execution_count": 92,
   "metadata": {
    "ExecuteTime": {
     "end_time": "2025-03-16T19:29:15.826016Z",
     "start_time": "2025-03-16T19:29:15.819324Z"
    }
   },
   "outputs": [],
   "source": [
    "import numpy as np\n",
    "import pandas as pd\n",
    "from sklearn.preprocessing import LabelEncoder\n",
    "from sklearn.preprocessing import StandardScaler\n",
    "from sklearn.model_selection import train_test_split\n",
    "from sklearn.metrics import f1_score, r2_score\n",
    "from sklearn.neural_network import MLPClassifier, MLPRegressor\n",
    "from tensorflow.keras.models import Sequential, Model\n",
    "from tensorflow.keras.layers import Input, Dense\n",
    "from tensorflow.keras.utils import to_categorical\n",
    "from tensorflow.keras.optimizers import Adam\n",
    "import torch\n",
    "import torch.nn as nn\n",
    "import torch.optim as optim\n",
    "from torch.utils.data import TensorDataset, DataLoader"
   ]
  },
  {
   "cell_type": "markdown",
   "metadata": {},
   "source": [
    "# 2. Loading & Preprocessing Dataset"
   ]
  },
  {
   "cell_type": "markdown",
   "metadata": {},
   "source": [
    "## 2. 1. Loading"
   ]
  },
  {
   "cell_type": "code",
   "execution_count": 63,
   "metadata": {},
   "outputs": [
    {
     "data": {
      "text/html": [
       "<div>\n",
       "<style scoped>\n",
       "    .dataframe tbody tr th:only-of-type {\n",
       "        vertical-align: middle;\n",
       "    }\n",
       "\n",
       "    .dataframe tbody tr th {\n",
       "        vertical-align: top;\n",
       "    }\n",
       "\n",
       "    .dataframe thead th {\n",
       "        text-align: right;\n",
       "    }\n",
       "</style>\n",
       "<table border=\"1\" class=\"dataframe\">\n",
       "  <thead>\n",
       "    <tr style=\"text-align: right;\">\n",
       "      <th></th>\n",
       "      <th>Sex</th>\n",
       "      <th>Length</th>\n",
       "      <th>Diameter</th>\n",
       "      <th>Height</th>\n",
       "      <th>Whole_weight</th>\n",
       "      <th>Shucked_weight</th>\n",
       "      <th>Viscera_weight</th>\n",
       "      <th>Shell_weight</th>\n",
       "      <th>Rings</th>\n",
       "    </tr>\n",
       "  </thead>\n",
       "  <tbody>\n",
       "    <tr>\n",
       "      <th>0</th>\n",
       "      <td>M</td>\n",
       "      <td>0.455</td>\n",
       "      <td>0.365</td>\n",
       "      <td>0.095</td>\n",
       "      <td>0.5140</td>\n",
       "      <td>0.2245</td>\n",
       "      <td>0.1010</td>\n",
       "      <td>0.150</td>\n",
       "      <td>15</td>\n",
       "    </tr>\n",
       "    <tr>\n",
       "      <th>1</th>\n",
       "      <td>M</td>\n",
       "      <td>0.350</td>\n",
       "      <td>0.265</td>\n",
       "      <td>0.090</td>\n",
       "      <td>0.2255</td>\n",
       "      <td>0.0995</td>\n",
       "      <td>0.0485</td>\n",
       "      <td>0.070</td>\n",
       "      <td>7</td>\n",
       "    </tr>\n",
       "    <tr>\n",
       "      <th>2</th>\n",
       "      <td>F</td>\n",
       "      <td>0.530</td>\n",
       "      <td>0.420</td>\n",
       "      <td>0.135</td>\n",
       "      <td>0.6770</td>\n",
       "      <td>0.2565</td>\n",
       "      <td>0.1415</td>\n",
       "      <td>0.210</td>\n",
       "      <td>9</td>\n",
       "    </tr>\n",
       "    <tr>\n",
       "      <th>3</th>\n",
       "      <td>M</td>\n",
       "      <td>0.440</td>\n",
       "      <td>0.365</td>\n",
       "      <td>0.125</td>\n",
       "      <td>0.5160</td>\n",
       "      <td>0.2155</td>\n",
       "      <td>0.1140</td>\n",
       "      <td>0.155</td>\n",
       "      <td>10</td>\n",
       "    </tr>\n",
       "    <tr>\n",
       "      <th>4</th>\n",
       "      <td>I</td>\n",
       "      <td>0.330</td>\n",
       "      <td>0.255</td>\n",
       "      <td>0.080</td>\n",
       "      <td>0.2050</td>\n",
       "      <td>0.0895</td>\n",
       "      <td>0.0395</td>\n",
       "      <td>0.055</td>\n",
       "      <td>7</td>\n",
       "    </tr>\n",
       "  </tbody>\n",
       "</table>\n",
       "</div>"
      ],
      "text/plain": [
       "  Sex  Length  Diameter  Height  Whole_weight  Shucked_weight  Viscera_weight  \\\n",
       "0   M   0.455     0.365   0.095        0.5140          0.2245          0.1010   \n",
       "1   M   0.350     0.265   0.090        0.2255          0.0995          0.0485   \n",
       "2   F   0.530     0.420   0.135        0.6770          0.2565          0.1415   \n",
       "3   M   0.440     0.365   0.125        0.5160          0.2155          0.1140   \n",
       "4   I   0.330     0.255   0.080        0.2050          0.0895          0.0395   \n",
       "\n",
       "   Shell_weight  Rings  \n",
       "0         0.150     15  \n",
       "1         0.070      7  \n",
       "2         0.210      9  \n",
       "3         0.155     10  \n",
       "4         0.055      7  "
      ]
     },
     "execution_count": 63,
     "metadata": {},
     "output_type": "execute_result"
    }
   ],
   "source": [
    "df = pd.read_csv('abalone.csv')\n",
    "\n",
    "df.head()"
   ]
  },
  {
   "cell_type": "code",
   "execution_count": 64,
   "metadata": {},
   "outputs": [
    {
     "name": "stdout",
     "output_type": "stream",
     "text": [
      "<class 'pandas.core.frame.DataFrame'>\n",
      "RangeIndex: 4177 entries, 0 to 4176\n",
      "Data columns (total 9 columns):\n",
      " #   Column          Non-Null Count  Dtype  \n",
      "---  ------          --------------  -----  \n",
      " 0   Sex             4177 non-null   object \n",
      " 1   Length          4177 non-null   float64\n",
      " 2   Diameter        4177 non-null   float64\n",
      " 3   Height          4177 non-null   float64\n",
      " 4   Whole_weight    4177 non-null   float64\n",
      " 5   Shucked_weight  4177 non-null   float64\n",
      " 6   Viscera_weight  4177 non-null   float64\n",
      " 7   Shell_weight    4177 non-null   float64\n",
      " 8   Rings           4177 non-null   int64  \n",
      "dtypes: float64(7), int64(1), object(1)\n",
      "memory usage: 293.8+ KB\n"
     ]
    }
   ],
   "source": [
    "df.info()"
   ]
  },
  {
   "cell_type": "markdown",
   "metadata": {},
   "source": [
    "## 2. 2. Preprocessing"
   ]
  },
  {
   "cell_type": "markdown",
   "metadata": {},
   "source": [
    "Encode column `Sex` (one-hot encoding)."
   ]
  },
  {
   "cell_type": "code",
   "execution_count": 65,
   "metadata": {},
   "outputs": [],
   "source": [
    "# Step 1: Convert 'Sex' column to dummy variables \n",
    "sex_dummies = pd.get_dummies(df['Sex'], prefix='Sex').astype(int)\n",
    "\n",
    "# Step 2: Drop the original 'Sex' column and add the new dummies\n",
    "df = pd.concat([df.drop('Sex', axis=1), sex_dummies], axis=1)"
   ]
  },
  {
   "cell_type": "markdown",
   "metadata": {},
   "source": [
    "Define bins and labels for categorization"
   ]
  },
  {
   "cell_type": "code",
   "execution_count": 66,
   "metadata": {},
   "outputs": [
    {
     "data": {
      "text/html": [
       "<div>\n",
       "<style scoped>\n",
       "    .dataframe tbody tr th:only-of-type {\n",
       "        vertical-align: middle;\n",
       "    }\n",
       "\n",
       "    .dataframe tbody tr th {\n",
       "        vertical-align: top;\n",
       "    }\n",
       "\n",
       "    .dataframe thead th {\n",
       "        text-align: right;\n",
       "    }\n",
       "</style>\n",
       "<table border=\"1\" class=\"dataframe\">\n",
       "  <thead>\n",
       "    <tr style=\"text-align: right;\">\n",
       "      <th></th>\n",
       "      <th>Length</th>\n",
       "      <th>Diameter</th>\n",
       "      <th>Height</th>\n",
       "      <th>Whole_weight</th>\n",
       "      <th>Shucked_weight</th>\n",
       "      <th>Viscera_weight</th>\n",
       "      <th>Shell_weight</th>\n",
       "      <th>Rings</th>\n",
       "      <th>Sex_F</th>\n",
       "      <th>Sex_I</th>\n",
       "      <th>Sex_M</th>\n",
       "      <th>Age</th>\n",
       "      <th>Binary_Age</th>\n",
       "    </tr>\n",
       "  </thead>\n",
       "  <tbody>\n",
       "    <tr>\n",
       "      <th>0</th>\n",
       "      <td>0.455</td>\n",
       "      <td>0.365</td>\n",
       "      <td>0.095</td>\n",
       "      <td>0.5140</td>\n",
       "      <td>0.2245</td>\n",
       "      <td>0.1010</td>\n",
       "      <td>0.150</td>\n",
       "      <td>15</td>\n",
       "      <td>0</td>\n",
       "      <td>0</td>\n",
       "      <td>1</td>\n",
       "      <td>3</td>\n",
       "      <td>1</td>\n",
       "    </tr>\n",
       "    <tr>\n",
       "      <th>1</th>\n",
       "      <td>0.350</td>\n",
       "      <td>0.265</td>\n",
       "      <td>0.090</td>\n",
       "      <td>0.2255</td>\n",
       "      <td>0.0995</td>\n",
       "      <td>0.0485</td>\n",
       "      <td>0.070</td>\n",
       "      <td>7</td>\n",
       "      <td>0</td>\n",
       "      <td>0</td>\n",
       "      <td>1</td>\n",
       "      <td>0</td>\n",
       "      <td>0</td>\n",
       "    </tr>\n",
       "    <tr>\n",
       "      <th>2</th>\n",
       "      <td>0.530</td>\n",
       "      <td>0.420</td>\n",
       "      <td>0.135</td>\n",
       "      <td>0.6770</td>\n",
       "      <td>0.2565</td>\n",
       "      <td>0.1415</td>\n",
       "      <td>0.210</td>\n",
       "      <td>9</td>\n",
       "      <td>1</td>\n",
       "      <td>0</td>\n",
       "      <td>0</td>\n",
       "      <td>1</td>\n",
       "      <td>0</td>\n",
       "    </tr>\n",
       "    <tr>\n",
       "      <th>3</th>\n",
       "      <td>0.440</td>\n",
       "      <td>0.365</td>\n",
       "      <td>0.125</td>\n",
       "      <td>0.5160</td>\n",
       "      <td>0.2155</td>\n",
       "      <td>0.1140</td>\n",
       "      <td>0.155</td>\n",
       "      <td>10</td>\n",
       "      <td>0</td>\n",
       "      <td>0</td>\n",
       "      <td>1</td>\n",
       "      <td>2</td>\n",
       "      <td>1</td>\n",
       "    </tr>\n",
       "    <tr>\n",
       "      <th>4</th>\n",
       "      <td>0.330</td>\n",
       "      <td>0.255</td>\n",
       "      <td>0.080</td>\n",
       "      <td>0.2050</td>\n",
       "      <td>0.0895</td>\n",
       "      <td>0.0395</td>\n",
       "      <td>0.055</td>\n",
       "      <td>7</td>\n",
       "      <td>0</td>\n",
       "      <td>1</td>\n",
       "      <td>0</td>\n",
       "      <td>0</td>\n",
       "      <td>0</td>\n",
       "    </tr>\n",
       "  </tbody>\n",
       "</table>\n",
       "</div>"
      ],
      "text/plain": [
       "   Length  Diameter  Height  Whole_weight  Shucked_weight  Viscera_weight  \\\n",
       "0   0.455     0.365   0.095        0.5140          0.2245          0.1010   \n",
       "1   0.350     0.265   0.090        0.2255          0.0995          0.0485   \n",
       "2   0.530     0.420   0.135        0.6770          0.2565          0.1415   \n",
       "3   0.440     0.365   0.125        0.5160          0.2155          0.1140   \n",
       "4   0.330     0.255   0.080        0.2050          0.0895          0.0395   \n",
       "\n",
       "   Shell_weight  Rings  Sex_F  Sex_I  Sex_M  Age  Binary_Age  \n",
       "0         0.150     15      0      0      1    3           1  \n",
       "1         0.070      7      0      0      1    0           0  \n",
       "2         0.210      9      1      0      0    1           0  \n",
       "3         0.155     10      0      0      1    2           1  \n",
       "4         0.055      7      0      1      0    0           0  "
      ]
     },
     "execution_count": 66,
     "metadata": {},
     "output_type": "execute_result"
    }
   ],
   "source": [
    "bins = [0, 8, 10, 15, 30]  # Example bins\n",
    "labels = ['Young', 'Adult', 'Mature', 'Old']  # Example categories\n",
    "\n",
    "# Add a new column with categorized values\n",
    "df['Age'] = pd.cut(df['Rings'], bins=bins, labels=labels, right=False)\n",
    "\n",
    "df['Age'] = df['Age'].cat.codes  # Convert categories to numerical codes\n",
    "\n",
    "# Add a binary category column based on 'Age'\n",
    "df['Binary_Age'] = (df['Age'] > 1).astype(int)\n",
    "\n",
    "# Display the updated dataframe\n",
    "df.head()"
   ]
  },
  {
   "cell_type": "markdown",
   "metadata": {},
   "source": [
    "Split dataframe into X and y vectors."
   ]
  },
  {
   "cell_type": "code",
   "execution_count": 67,
   "metadata": {},
   "outputs": [],
   "source": [
    "X = df.drop(columns=['Rings', 'Age', 'Binary_Age'])\n",
    "yr = df['Rings']\n",
    "yc = df['Age']\n",
    "yb = df['Binary_Age']"
   ]
  },
  {
   "cell_type": "markdown",
   "metadata": {},
   "source": [
    "Standardize X values."
   ]
  },
  {
   "cell_type": "code",
   "execution_count": 68,
   "metadata": {},
   "outputs": [],
   "source": [
    "scaler = StandardScaler()\n",
    "X = scaler.fit_transform(X)"
   ]
  },
  {
   "cell_type": "markdown",
   "metadata": {},
   "source": [
    "## 2. 3. Split"
   ]
  },
  {
   "cell_type": "code",
   "execution_count": 69,
   "metadata": {},
   "outputs": [],
   "source": [
    "Xr_train, Xr_test, yr_train, yr_test = train_test_split(X, yr, test_size=0.2, random_state=42)\n",
    "Xc_train, Xc_test, yc_train, yc_test = train_test_split(X, yc, test_size=0.2, random_state=42)\n",
    "Xb_train, Xb_test, yb_train, yb_test = train_test_split(X, yb, test_size=0.2, random_state=42)"
   ]
  },
  {
   "cell_type": "markdown",
   "metadata": {},
   "source": [
    "## 2. 4. Metric Function"
   ]
  },
  {
   "cell_type": "markdown",
   "metadata": {},
   "source": [
    "It's a function that prints F1 Score for each model, comparing to the desired threshold."
   ]
  },
  {
   "cell_type": "code",
   "execution_count": 70,
   "metadata": {},
   "outputs": [],
   "source": [
    "def print_f1(model, true, prediction, threshold):\n",
    "    print(f\"🚀 {model}\")\n",
    "    f1 = f1_score(true, prediction, average='weighted')\n",
    "    print(f\"F1 Score: {f1:.4f}\")\n",
    "    print(f\"Treshold: {threshold}\")\n",
    "    print(f\"Meets threshold: {f1 > threshold}\")"
   ]
  },
  {
   "cell_type": "code",
   "execution_count": 71,
   "metadata": {},
   "outputs": [],
   "source": [
    "def print_r2(model, true, prediction, threshold):\n",
    "    print(f\"🚀 {model}\")\n",
    "    r2 = r2_score(true, prediction)\n",
    "    print(f\"R2 Score: {r2:.4f}\")\n",
    "    print(f\"Treshold: {threshold}\")\n",
    "    print(f\"Meets threshold: {r2 > threshold}\")"
   ]
  },
  {
   "cell_type": "markdown",
   "metadata": {},
   "source": [
    "# 3. Multilayer Perceptron"
   ]
  },
  {
   "cell_type": "markdown",
   "metadata": {},
   "source": [
    "A Multilayer Perceptron (MLP) is a type of neural network made of layers of connected neurons. It includes an input layer, one or more hidden layers, and an output layer. Each neuron processes inputs using weights and an activation function. MLPs learn patterns from data using backpropagation and are used for tasks like classification and regression."
   ]
  },
  {
   "cell_type": "markdown",
   "metadata": {},
   "source": [
    "## 3. 1. Multilayer Perceptron Classifier"
   ]
  },
  {
   "cell_type": "code",
   "execution_count": 72,
   "metadata": {},
   "outputs": [
    {
     "name": "stdout",
     "output_type": "stream",
     "text": [
      "🚀 Multilayer Perceptron\n",
      "F1 Score: 0.6422\n",
      "Treshold: 0.75\n",
      "Meets threshold: False\n"
     ]
    }
   ],
   "source": [
    "# Train MLP Classifier\n",
    "mlp_clf = MLPClassifier(learning_rate_init=0.0005, activation='tanh', hidden_layer_sizes=(100, 100), max_iter=3000, random_state=42)\n",
    "mlp_clf.fit(Xc_train, yc_train)\n",
    "\n",
    "# Predict\n",
    "yc_pred = mlp_clf.predict(Xc_test)\n",
    "\n",
    "# Evaluate\n",
    "print_f1(\"Multilayer Perceptron\", yc_test, yc_pred, 0.75)"
   ]
  },
  {
   "cell_type": "markdown",
   "metadata": {},
   "source": [
    "## 3. 1. Multilayer Perceptron Regressor"
   ]
  },
  {
   "cell_type": "code",
   "execution_count": 73,
   "metadata": {},
   "outputs": [
    {
     "name": "stdout",
     "output_type": "stream",
     "text": [
      "🚀 Multilayer Perceptron\n",
      "R2 Score: 0.5818\n",
      "Treshold: 0.8\n",
      "Meets threshold: False\n"
     ]
    }
   ],
   "source": [
    "# Train MLP Regressor\n",
    "mlp_reg = MLPRegressor(hidden_layer_sizes=(100,), max_iter=1000, random_state=42)\n",
    "mlp_reg.fit(Xr_train, yr_train)\n",
    "\n",
    "# Make predictions\n",
    "yr_pred = mlp_reg.predict(Xr_test)\n",
    "\n",
    "# Evaluate\n",
    "print_r2(\"Multilayer Perceptron\", yr_test, yr_pred, 0.8)"
   ]
  },
  {
   "cell_type": "markdown",
   "metadata": {},
   "source": [
    "I tried many tunings, but it looks like the f1 and r2 scores cannot be better. ☹️"
   ]
  },
  {
   "cell_type": "markdown",
   "metadata": {},
   "source": [
    "# 4. 4-Layer Feedforward Network with Keras"
   ]
  },
  {
   "cell_type": "markdown",
   "metadata": {},
   "source": [
    "## 4.1. Binary Classification"
   ]
  },
  {
   "cell_type": "code",
   "execution_count": 77,
   "metadata": {},
   "outputs": [
    {
     "name": "stderr",
     "output_type": "stream",
     "text": [
      "/Library/Frameworks/Python.framework/Versions/3.11/lib/python3.11/site-packages/keras/src/layers/core/dense.py:87: UserWarning: Do not pass an `input_shape`/`input_dim` argument to a layer. When using Sequential models, prefer using an `Input(shape)` object as the first layer in the model instead.\n",
      "  super().__init__(activity_regularizer=activity_regularizer, **kwargs)\n"
     ]
    },
    {
     "name": "stdout",
     "output_type": "stream",
     "text": [
      "\u001b[1m27/27\u001b[0m \u001b[32m━━━━━━━━━━━━━━━━━━━━\u001b[0m\u001b[37m\u001b[0m \u001b[1m0s\u001b[0m 1ms/step \n",
      "🚀 Keras Classifier\n",
      "F1 Score: 0.8036\n",
      "Treshold: 0.75\n",
      "Meets threshold: True\n"
     ]
    }
   ],
   "source": [
    "# Train Keras Classifier\n",
    "clf_model = Sequential([\n",
    "    Dense(64, activation='relu', input_shape=(Xb_train.shape[1],)),\n",
    "    Dense(64, activation='relu'),\n",
    "    Dense(32, activation='relu'),\n",
    "    Dense(1, activation='sigmoid')\n",
    "])\n",
    "\n",
    "clf_model.compile(optimizer=Adam(0.001), loss='binary_crossentropy', metrics=[])\n",
    "\n",
    "clf_model.fit(Xb_train, yb_train, epochs=30, batch_size=32, verbose=0)\n",
    "\n",
    "# Predict\n",
    "yb_pred_probs = clf_model.predict(Xb_test)\n",
    "yb_pred = (yb_pred_probs > 0.5).astype(int)\n",
    "\n",
    "# Evaluate\n",
    "print_f1(\"Keras Classifier\", yb_test, yb_pred, 0.75)"
   ]
  },
  {
   "cell_type": "markdown",
   "metadata": {},
   "source": [
    "## 4. 2. Regression"
   ]
  },
  {
   "cell_type": "code",
   "execution_count": 79,
   "metadata": {},
   "outputs": [
    {
     "name": "stderr",
     "output_type": "stream",
     "text": [
      "/Library/Frameworks/Python.framework/Versions/3.11/lib/python3.11/site-packages/keras/src/layers/core/dense.py:87: UserWarning: Do not pass an `input_shape`/`input_dim` argument to a layer. When using Sequential models, prefer using an `Input(shape)` object as the first layer in the model instead.\n",
      "  super().__init__(activity_regularizer=activity_regularizer, **kwargs)\n"
     ]
    },
    {
     "name": "stdout",
     "output_type": "stream",
     "text": [
      "\u001b[1m27/27\u001b[0m \u001b[32m━━━━━━━━━━━━━━━━━━━━\u001b[0m\u001b[37m\u001b[0m \u001b[1m0s\u001b[0m 1ms/step \n",
      "🚀 Keras Regressor\n",
      "R2 Score: 0.5734\n",
      "Treshold: 0.8\n",
      "Meets threshold: False\n"
     ]
    }
   ],
   "source": [
    "# Train Keras Regressor\n",
    "reg_model = Sequential([\n",
    "    Dense(64, activation='relu', input_shape=(Xr_train.shape[1],)),\n",
    "    Dense(32, activation='tanh'),\n",
    "    Dense(16, activation='sigmoid'),\n",
    "    Dense(1)\n",
    "])\n",
    "\n",
    "reg_model.compile(optimizer=Adam(0.001), loss='mse')\n",
    "\n",
    "# Train \n",
    "reg_model.fit(Xr_train, yr_train, epochs=150, batch_size=64, verbose=0)\n",
    "\n",
    "# Predict\n",
    "yr_pred = reg_model.predict(Xr_test).flatten()\n",
    "\n",
    "# Evaluate\n",
    "print_r2(\"Keras Regressor\", yr_test, yr_pred, 0.8)"
   ]
  },
  {
   "cell_type": "markdown",
   "metadata": {},
   "source": [
    "# 5. 4-Layer Feedforward Network with PyTorch"
   ]
  },
  {
   "cell_type": "markdown",
   "metadata": {},
   "source": [
    "Implementing a 4-layer feedforward network in `PyTorch` involves defining a custom neural network class that inherits from `nn.Module`. You start by defining the layers in the constructor `__init__`, using `nn.Linear()` for fully connected layers and activation functions like `ReLU` or `Tanh` in between. The forward pass is implemented in the `forward()` method, where you specify how data flows through the layers. For binary classification, the final layer uses `nn.Sigmoid()`, while for regression, it uses a linear output. You then initialize the model, define a loss function (e.g., `BCEWithLogitsLoss` for classification or `MSELoss` for regression), and an optimizer (e.g., `Adam`). The model is trained using the training data, and the evaluation is done based on metrics like `F1-score` for classification or `R²` for regression."
   ]
  },
  {
   "cell_type": "code",
   "execution_count": 83,
   "metadata": {},
   "outputs": [],
   "source": [
    "class FeedforwardNN(nn.Module):\n",
    "    def __init__(self, input_dim, output_dim=1, classification=True):\n",
    "        super().__init__()\n",
    "        self.classification = classification\n",
    "        self.model = nn.Sequential(\n",
    "            nn.Linear(input_dim, 64),\n",
    "            nn.ReLU(),\n",
    "            nn.Linear(64, 32),\n",
    "            nn.ReLU(),\n",
    "            nn.Linear(32, 16),\n",
    "            nn.ReLU(),\n",
    "            nn.Linear(16, output_dim),\n",
    "        )\n",
    "        if classification:\n",
    "            self.activation = nn.Sigmoid()\n",
    "        \n",
    "    def forward(self, x):\n",
    "        x = self.model(x)\n",
    "        return self.activation(x) if self.classification else x"
   ]
  },
  {
   "cell_type": "code",
   "execution_count": 84,
   "metadata": {},
   "outputs": [],
   "source": [
    "def train_model(model, dataloader, criterion, optimizer, epochs=100):\n",
    "    model.train()\n",
    "    for epoch in range(epochs):\n",
    "        for xb, yb in dataloader:\n",
    "            pred = model(xb).squeeze()\n",
    "            loss = criterion(pred, yb)\n",
    "            optimizer.zero_grad()\n",
    "            loss.backward()\n",
    "            optimizer.step()"
   ]
  },
  {
   "cell_type": "code",
   "execution_count": 88,
   "metadata": {},
   "outputs": [],
   "source": [
    "def to_tensor(x):\n",
    "    return torch.tensor(x, dtype=torch.float32)"
   ]
  },
  {
   "cell_type": "markdown",
   "metadata": {},
   "source": [
    "## 5. 1. Binary Classification"
   ]
  },
  {
   "cell_type": "code",
   "execution_count": 90,
   "metadata": {},
   "outputs": [
    {
     "name": "stdout",
     "output_type": "stream",
     "text": [
      "🚀 PyTorch Classifier\n",
      "F1 Score: 0.8073\n",
      "Treshold: 0.75\n",
      "Meets threshold: True\n"
     ]
    }
   ],
   "source": [
    "# Convert data\n",
    "\n",
    "train_ds = TensorDataset(to_tensor(Xb_train), to_tensor(yb_train))\n",
    "test_x = to_tensor(Xb_test)\n",
    "\n",
    "# Model\n",
    "clf_model = FeedforwardNN(Xb_train.shape[1], classification=True)\n",
    "clf_loss = nn.BCELoss()\n",
    "clf_opt = optim.Adam(clf_model.parameters(), lr=0.001)\n",
    "\n",
    "# Train\n",
    "clf_loader = DataLoader(train_ds, batch_size=64, shuffle=True)\n",
    "train_model(clf_model, clf_loader, clf_loss, clf_opt, epochs=100)\n",
    "\n",
    "# Evaluate\n",
    "clf_model.eval()\n",
    "with torch.no_grad():\n",
    "    yb_pred_proba = clf_model(test_x).numpy()\n",
    "    yb_pred = (yb_pred_proba > 0.5).astype(int)\n",
    "    print_f1(\"PyTorch Classifier\", yb_test, yb_pred, 0.75)"
   ]
  },
  {
   "cell_type": "markdown",
   "metadata": {},
   "source": [
    "## 5. 2. Regression"
   ]
  },
  {
   "cell_type": "code",
   "execution_count": 91,
   "metadata": {},
   "outputs": [
    {
     "name": "stdout",
     "output_type": "stream",
     "text": [
      "🚀 PyTorch Regressor\n",
      "R2 Score: 0.5862\n",
      "Treshold: 0.8\n",
      "Meets threshold: False\n"
     ]
    }
   ],
   "source": [
    "train_ds_r = TensorDataset(to_tensor(Xr_train), to_tensor(yr_train))\n",
    "test_x_r = to_tensor(Xr_test)\n",
    "\n",
    "# Model\n",
    "reg_model = FeedforwardNN(Xr_train.shape[1], classification=False)\n",
    "reg_loss = nn.MSELoss()\n",
    "reg_opt = optim.Adam(reg_model.parameters(), lr=0.001)\n",
    "\n",
    "# Train\n",
    "reg_loader = DataLoader(train_ds_r, batch_size=64, shuffle=True)\n",
    "train_model(reg_model, reg_loader, reg_loss, reg_opt, epochs=100)\n",
    "\n",
    "# Evaluate\n",
    "reg_model.eval()\n",
    "with torch.no_grad():\n",
    "    y_pred_r = reg_model(test_x_r).numpy()\n",
    "    r2 = r2_score(yr_test, y_pred_r)\n",
    "    print_r2(\"PyTorch Regressor\", yr_test, y_pred_r, 0.8)"
   ]
  },
  {
   "cell_type": "markdown",
   "metadata": {},
   "source": [
    "# 6. 4-Layer Non-Sequential Feedforward Network with Keras"
   ]
  },
  {
   "cell_type": "markdown",
   "metadata": {},
   "source": [
    "Implementing a 4-layer non-sequential feedforward network in `Keras` involves using the Functional API, which allows for more flexibility than the `Sequential` model. First, you define the input layer using `Input()`, specifying the shape of the data. Then, you add hidden layers using the `Dense()` layer, with activations like `ReLU`, `Tanh`, or `Sigmoid`. Each layer is connected by passing the output of one layer as the input to the next. The output layer, for binary classification, uses a `Sigmoid` activation, while for regression, it uses a linear activation. The model is compiled with an optimizer (e.g., `Adam`) and a loss function (e.g., `binary_crossentropy` for classification or `mse` for regression). Finally, the model is trained using `.fit()` and evaluated based on appropriate metrics like `F1-score` for classification or `R²` for regression."
   ]
  },
  {
   "cell_type": "markdown",
   "metadata": {},
   "source": [
    "## 6. 1. Binary Classification"
   ]
  },
  {
   "cell_type": "code",
   "execution_count": null,
   "metadata": {},
   "outputs": [
    {
     "name": "stdout",
     "output_type": "stream",
     "text": [
      "\u001b[1m27/27\u001b[0m \u001b[32m━━━━━━━━━━━━━━━━━━━━\u001b[0m\u001b[37m\u001b[0m \u001b[1m0s\u001b[0m 1ms/step \n",
      "🚀 Keras Functional API Classifier\n",
      "F1 Score: 0.7943\n",
      "Treshold: 0.75\n",
      "Meets threshold: True\n"
     ]
    }
   ],
   "source": [
    "# Input layer\n",
    "inputs = Input(shape=(Xb_train.shape[1],))\n",
    "\n",
    "# Hidden layers\n",
    "x = Dense(64, activation='relu')(inputs)\n",
    "x = Dense(32, activation='tanh')(x)\n",
    "x = Dense(16, activation='relu')(x)\n",
    "x = Dense(8, activation='relu')(x)\n",
    "\n",
    "# Output layer\n",
    "outputs = Dense(1, activation='sigmoid')(x)\n",
    "\n",
    "# Define model\n",
    "clf_model = Model(inputs, outputs)\n",
    "clf_model.compile(optimizer=Adam(0.001), loss='binary_crossentropy')\n",
    "\n",
    "# Train\n",
    "clf_model.fit(Xb_train, yb_train, epochs=50, batch_size=32, verbose=0)\n",
    "\n",
    "# Predict\n",
    "yb_pred_probs = clf_model.predict(Xb_test).flatten()\n",
    "yb_pred = (yb_pred_probs > 0.5).astype(int)\n",
    "\n",
    "# Evaluate\n",
    "print_f1(\"Keras Functional API Classifier\", yb_test, yb_pred, 0.75)"
   ]
  },
  {
   "cell_type": "markdown",
   "metadata": {},
   "source": [
    "## 6. 2. Regression"
   ]
  },
  {
   "cell_type": "code",
   "execution_count": 94,
   "metadata": {},
   "outputs": [
    {
     "name": "stdout",
     "output_type": "stream",
     "text": [
      "\u001b[1m27/27\u001b[0m \u001b[32m━━━━━━━━━━━━━━━━━━━━\u001b[0m\u001b[37m\u001b[0m \u001b[1m0s\u001b[0m 1ms/step \n",
      "🚀 Keras Functional API Regressor\n",
      "R2 Score: 0.5860\n",
      "Treshold: 0.8\n",
      "Meets threshold: False\n"
     ]
    }
   ],
   "source": [
    "# Input\n",
    "inputs = Input(shape=(Xr_train.shape[1],))\n",
    "\n",
    "# Hidden layers\n",
    "x = Dense(64, activation='relu')(inputs)\n",
    "x = Dense(32, activation='tanh')(x)\n",
    "x = Dense(16, activation='relu')(x)\n",
    "x = Dense(8, activation='relu')(x)\n",
    "\n",
    "# Output\n",
    "outputs = Dense(1)(x)\n",
    "\n",
    "# Define model\n",
    "reg_model = Model(inputs, outputs)\n",
    "reg_model.compile(optimizer=Adam(0.001), loss='mse')\n",
    "\n",
    "# Train\n",
    "reg_model.fit(Xr_train, yr_train, epochs=100, batch_size=32, verbose=0)\n",
    "\n",
    "# Predict and evaluate\n",
    "yr_pred = reg_model.predict(Xr_test).flatten()\n",
    "r2 = r2_score(yr_test, yr_pred)\n",
    "\n",
    "print_r2(\"Keras Functional API Regressor\", yr_test, yr_pred, 0.8)"
   ]
  },
  {
   "cell_type": "markdown",
   "metadata": {},
   "source": [
    "# 7. Question"
   ]
  },
  {
   "cell_type": "markdown",
   "metadata": {},
   "source": [
    "Q: Why neural networks are so powerful and what the diffcult part is in designing neural networks❓\n",
    "\n",
    "A: Neural networks are strong because they can automatically extract intricate representations and patterns from data, which enables them to solve a variety of problems, including natural language processing and image categorization.  Adapting over layers of neurons, each learning increasingly abstract characteristics of the incoming data, and modeling non-linear interactions are their strong points.  However, correct architecture selection (e.g., number of layers, neurons, and activation functions), tweaking hyperparameters (e.g., learning rate and regularization), and avoiding problems (e.g., overfitting or vanishing gradients) can make neural network design difficult.  Furthermore, deep network training necessitates a significant quantity of data and computer power, and identifying the best model can be an iterative lengthy process. ✅"
   ]
  }
 ],
 "metadata": {
  "kernelspec": {
   "display_name": "Python 3",
   "language": "python",
   "name": "python3"
  },
  "language_info": {
   "codemirror_mode": {
    "name": "ipython",
    "version": 3
   },
   "file_extension": ".py",
   "mimetype": "text/x-python",
   "name": "python",
   "nbconvert_exporter": "python",
   "pygments_lexer": "ipython3",
   "version": "3.11.4"
  }
 },
 "nbformat": 4,
 "nbformat_minor": 2
}
